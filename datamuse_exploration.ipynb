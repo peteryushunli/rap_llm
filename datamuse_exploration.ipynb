{
 "cells": [
  {
   "cell_type": "code",
   "execution_count": 1,
   "metadata": {},
   "outputs": [
    {
     "name": "stdout",
     "output_type": "stream",
     "text": [
      "Collecting python-datamuse\n",
      "  Downloading python_datamuse-2.0.1-py3-none-any.whl (4.6 kB)\n",
      "Requirement already satisfied: requests<3.0.0,>=2.28.1 in /opt/anaconda3/lib/python3.8/site-packages (from python-datamuse) (2.31.0)\n",
      "Requirement already satisfied: certifi>=2017.4.17 in /opt/anaconda3/lib/python3.8/site-packages (from requests<3.0.0,>=2.28.1->python-datamuse) (2020.4.5.1)\n",
      "Requirement already satisfied: charset-normalizer<4,>=2 in /opt/anaconda3/lib/python3.8/site-packages (from requests<3.0.0,>=2.28.1->python-datamuse) (3.1.0)\n",
      "Requirement already satisfied: idna<4,>=2.5 in /opt/anaconda3/lib/python3.8/site-packages (from requests<3.0.0,>=2.28.1->python-datamuse) (2.8)\n",
      "Requirement already satisfied: urllib3<3,>=1.21.1 in /opt/anaconda3/lib/python3.8/site-packages (from requests<3.0.0,>=2.28.1->python-datamuse) (1.25.9)\n",
      "Installing collected packages: python-datamuse\n",
      "Successfully installed python-datamuse-2.0.1\n",
      "Note: you may need to restart the kernel to use updated packages.\n"
     ]
    }
   ],
   "source": [
    "pip install python-datamuse"
   ]
  },
  {
   "cell_type": "code",
   "execution_count": 1,
   "metadata": {},
   "outputs": [
    {
     "data": {
      "text/plain": [
       "[]"
      ]
     },
     "execution_count": 1,
     "metadata": {},
     "output_type": "execute_result"
    }
   ],
   "source": [
    "from datamuse import Datamuse\n",
    "api = Datamuse()\n",
    "api.words(rel_rhy='ninth', max=5)  # words that rhyme with \"ninth\""
   ]
  },
  {
   "cell_type": "code",
   "execution_count": 2,
   "metadata": {},
   "outputs": [
    {
     "data": {
      "text/plain": [
       "[{'word': 'door hinge', 'score': 74, 'numSyllables': 2}]"
      ]
     },
     "execution_count": 2,
     "metadata": {},
     "output_type": "execute_result"
    }
   ],
   "source": [
    "api.words(rel_rhy='orange', max=5) # words that rhyme with \"orange\""
   ]
  },
  {
   "cell_type": "code",
   "execution_count": 3,
   "metadata": {},
   "outputs": [
    {
     "data": {
      "text/plain": [
       "[{'word': 'fever', 'score': 1001},\n",
       " {'word': 'color', 'score': 1000},\n",
       " {'word': 'flowers', 'score': 999},\n",
       " {'word': 'light', 'score': 998},\n",
       " {'word': 'colour', 'score': 997}]"
      ]
     },
     "execution_count": 3,
     "metadata": {},
     "output_type": "execute_result"
    }
   ],
   "source": [
    "api.words(rel_jja='yellow', max=5) # things often described as \"yellow\""
   ]
  },
  {
   "cell_type": "code",
   "execution_count": 5,
   "metadata": {},
   "outputs": [
    {
     "data": {
      "text/plain": [
       "[{'word': 'iphone', 'score': 64906},\n",
       " {'word': 'iphone 3g', 'score': 64662},\n",
       " {'word': 'phone', 'score': 2082},\n",
       " {'word': 'phoneme', 'score': 739},\n",
       " {'word': 'phoney', 'score': 589},\n",
       " {'word': 'phonetic', 'score': 551},\n",
       " {'word': 'phonetics', 'score': 372},\n",
       " {'word': 'phonemic', 'score': 234},\n",
       " {'word': 'phonemes', 'score': 197},\n",
       " {'word': 'phonebook', 'score': 193}]"
      ]
     },
     "execution_count": 5,
     "metadata": {},
     "output_type": "execute_result"
    }
   ],
   "source": [
    "api.suggest(s='iphone', max_results=10)"
   ]
  },
  {
   "cell_type": "code",
   "execution_count": null,
   "metadata": {},
   "outputs": [],
   "source": []
  }
 ],
 "metadata": {
  "kernelspec": {
   "display_name": "base",
   "language": "python",
   "name": "python3"
  },
  "language_info": {
   "codemirror_mode": {
    "name": "ipython",
    "version": 3
   },
   "file_extension": ".py",
   "mimetype": "text/x-python",
   "name": "python",
   "nbconvert_exporter": "python",
   "pygments_lexer": "ipython3",
   "version": "3.8.5"
  },
  "orig_nbformat": 4
 },
 "nbformat": 4,
 "nbformat_minor": 2
}
